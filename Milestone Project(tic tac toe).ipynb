{
 "cells": [
  {
   "cell_type": "code",
   "execution_count": 1,
   "metadata": {},
   "outputs": [],
   "source": [
    "def add():\n",
    "    no1=int(input(\"enter 1st no.::\"))\n",
    "    no2=int(input(\"enter 2nd no.::\"))\n",
    "    return no1+no2\n",
    "def add_with_parameters(no1,no2):\n",
    "    return no1+no2"
   ]
  },
  {
   "cell_type": "code",
   "execution_count": 2,
   "metadata": {},
   "outputs": [
    {
     "data": {
      "text/plain": [
       "13"
      ]
     },
     "execution_count": 2,
     "metadata": {},
     "output_type": "execute_result"
    }
   ],
   "source": [
    "add_with_parameters(11,2)"
   ]
  },
  {
   "cell_type": "markdown",
   "metadata": {},
   "source": [
    "# TIC TAC TOE"
   ]
  },
  {
   "cell_type": "markdown",
   "metadata": {},
   "source": [
    "### step 1:create board display_board(board)"
   ]
  },
  {
   "cell_type": "code",
   "execution_count": 3,
   "metadata": {},
   "outputs": [],
   "source": [
    "from IPython.display import clear_output \n",
    "def display_board(board):#it is used to print the board\n",
    "    clear_output()\n",
    "    print(board[7] + ' | ' + board[8] + ' | ' +board[9])\n",
    "    print(board[4] + ' | ' + board[5] + ' | ' +board[6])\n",
    "    print(board[1] + ' | ' + board[2] + ' | ' +board[3])"
   ]
  },
  {
   "cell_type": "code",
   "execution_count": 4,
   "metadata": {},
   "outputs": [
    {
     "name": "stdout",
     "output_type": "stream",
     "text": [
      "X | O | X\n",
      "O | X | O\n",
      "X | O | X\n"
     ]
    }
   ],
   "source": [
    "test_board=['#','X','O','X','O','X','O','X','O','X']\n",
    "display_board(test_board)"
   ]
  },
  {
   "cell_type": "markdown",
   "metadata": {},
   "source": [
    "### step2 :  player_input() \n",
    "#### we have to assign the player marker i.e X,O"
   ]
  },
  {
   "cell_type": "code",
   "execution_count": 5,
   "metadata": {},
   "outputs": [],
   "source": [
    "def player_input():\n",
    "    marker=' '\n",
    "    while (marker!= 'X' and marker!= 'O'):\n",
    "        marker=input(\"player 1 choose X or O:\").upper()\n",
    "    if marker=='X':\n",
    "        return('X','O')\n",
    "    else:\n",
    "        return('O','X')\n",
    "            \n",
    "        \n",
    "            \n",
    "        \n"
   ]
  },
  {
   "cell_type": "code",
   "execution_count": 6,
   "metadata": {},
   "outputs": [
    {
     "name": "stdout",
     "output_type": "stream",
     "text": [
      "player 1 choose X or O:\n",
      "player 1 choose X or O:\n",
      "player 1 choose X or O:X\n"
     ]
    }
   ],
   "source": [
    "player1_marker,player2_marker=player_input()"
   ]
  },
  {
   "cell_type": "code",
   "execution_count": 7,
   "metadata": {},
   "outputs": [
    {
     "data": {
      "text/plain": [
       "'X'"
      ]
     },
     "execution_count": 7,
     "metadata": {},
     "output_type": "execute_result"
    }
   ],
   "source": [
    "player1_marker"
   ]
  },
  {
   "cell_type": "code",
   "execution_count": 8,
   "metadata": {},
   "outputs": [
    {
     "data": {
      "text/plain": [
       "'O'"
      ]
     },
     "execution_count": 8,
     "metadata": {},
     "output_type": "execute_result"
    }
   ],
   "source": [
    "player2_marker"
   ]
  },
  {
   "cell_type": "markdown",
   "metadata": {},
   "source": [
    "### Step 3: place_marker(board,marker,position)\n"
   ]
  },
  {
   "cell_type": "markdown",
   "metadata": {},
   "source": [
    "#### place the marker at the given position"
   ]
  },
  {
   "cell_type": "code",
   "execution_count": 9,
   "metadata": {},
   "outputs": [],
   "source": [
    "def place_marker(board,marker,position):\n",
    "    board[position]=marker"
   ]
  },
  {
   "cell_type": "code",
   "execution_count": 10,
   "metadata": {},
   "outputs": [],
   "source": [
    "place_marker(test_board,'O',7)"
   ]
  },
  {
   "cell_type": "code",
   "execution_count": 11,
   "metadata": {
    "scrolled": true
   },
   "outputs": [
    {
     "name": "stdout",
     "output_type": "stream",
     "text": [
      "O | O | X\n",
      "O | X | O\n",
      "X | O | X\n"
     ]
    }
   ],
   "source": [
    "test_board\n",
    "display_board(test_board)"
   ]
  },
  {
   "cell_type": "markdown",
   "metadata": {},
   "source": [
    "### Step 4: win_check(board,marker) "
   ]
  },
  {
   "cell_type": "markdown",
   "metadata": {},
   "source": [
    "#### winning tic tac toe consists of all the combination of rows,colums and diagonols should share same markers\n",
    "#### we have to check:3 rows, 3 columns,2 diagonols                    "
   ]
  },
  {
   "cell_type": "code",
   "execution_count": 12,
   "metadata": {},
   "outputs": [],
   "source": [
    "def win_check(board,marker):\n",
    "    #for 1st row\n",
    "    return((board[7]==board[8]==board[9]==marker) or\n",
    "    #for 2st row\n",
    "    (board[4]==board[5]==board[6]==marker)or\n",
    "    #for 3st row\n",
    "    (board[1]==board[2]==board[3]==marker) or\n",
    "    #for 1st column\n",
    "    (board[7]==board[4]==board[1]==marker)or\n",
    "    #for 2nd column\n",
    "    (board[8]==board[5]==board[2]==marker)or\n",
    "    #for 3rd column\n",
    "    (board[9]==board[6]==board[3]==marker)or\n",
    "    #for 1st diagonal\n",
    "    (board[7]==board[5]==board[3]==marker)or\n",
    "    #for 2nd diagonal\n",
    "    (board[9]==board[5]==board[1]==marker))"
   ]
  },
  {
   "cell_type": "code",
   "execution_count": 13,
   "metadata": {},
   "outputs": [
    {
     "name": "stdout",
     "output_type": "stream",
     "text": [
      "O | O | X\n",
      "O | X | O\n",
      "X | O | X\n"
     ]
    }
   ],
   "source": [
    "display_board(test_board)"
   ]
  },
  {
   "cell_type": "code",
   "execution_count": 14,
   "metadata": {},
   "outputs": [
    {
     "data": {
      "text/plain": [
       "True"
      ]
     },
     "execution_count": 14,
     "metadata": {},
     "output_type": "execute_result"
    }
   ],
   "source": [
    "win_check(test_board,'X')"
   ]
  },
  {
   "cell_type": "markdown",
   "metadata": {},
   "source": [
    "### Step 5: choose_first() \n",
    "#### use random.radint to choose random player chance"
   ]
  },
  {
   "cell_type": "code",
   "execution_count": 15,
   "metadata": {},
   "outputs": [],
   "source": [
    "import random\n",
    "def choose_first():\n",
    "    flip=random.randint(0,1)\n",
    "    if flip==0:\n",
    "        return 'player1'\n",
    "    else:\n",
    "        return 'player2'\n",
    "        \n",
    "        "
   ]
  },
  {
   "cell_type": "code",
   "execution_count": 16,
   "metadata": {},
   "outputs": [
    {
     "data": {
      "text/plain": [
       "'player2'"
      ]
     },
     "execution_count": 16,
     "metadata": {},
     "output_type": "execute_result"
    }
   ],
   "source": [
    "choose_first()"
   ]
  },
  {
   "cell_type": "markdown",
   "metadata": {},
   "source": [
    "### Step 6: space_check(board,position) \n",
    "#### use to check the space for given position is available or not"
   ]
  },
  {
   "cell_type": "code",
   "execution_count": 17,
   "metadata": {},
   "outputs": [],
   "source": [
    "def space_check(board,position):\n",
    "    return board[position]==' '"
   ]
  },
  {
   "cell_type": "code",
   "execution_count": 18,
   "metadata": {},
   "outputs": [
    {
     "name": "stdout",
     "output_type": "stream",
     "text": [
      "O | O |  \n",
      "O | X | O\n",
      "X | O | X\n"
     ]
    }
   ],
   "source": [
    "place_marker(test_board,' ',9)\n",
    "display_board(test_board)"
   ]
  },
  {
   "cell_type": "code",
   "execution_count": 19,
   "metadata": {},
   "outputs": [],
   "source": [
    "place_marker(test_board,'X',9)"
   ]
  },
  {
   "cell_type": "code",
   "execution_count": 20,
   "metadata": {},
   "outputs": [
    {
     "data": {
      "text/plain": [
       "False"
      ]
     },
     "execution_count": 20,
     "metadata": {},
     "output_type": "execute_result"
    }
   ],
   "source": [
    "space_check(test_board,9)"
   ]
  },
  {
   "cell_type": "code",
   "execution_count": 21,
   "metadata": {},
   "outputs": [
    {
     "name": "stdout",
     "output_type": "stream",
     "text": [
      "O | O | X\n",
      "O | X | O\n",
      "X | O | X\n"
     ]
    }
   ],
   "source": [
    "display_board(test_board)"
   ]
  },
  {
   "cell_type": "markdown",
   "metadata": {},
   "source": [
    "### Step 8: full_board_check(board) \n",
    "#### to check board is full or not"
   ]
  },
  {
   "cell_type": "code",
   "execution_count": 22,
   "metadata": {},
   "outputs": [],
   "source": [
    "def full_board_check(board):\n",
    "    for i in range(1,10):\n",
    "        #give n=n+1 value to the last element we want to check\n",
    "        if space_check(board,i):\n",
    "            return False\n",
    "    return True#board is full if we return true"
   ]
  },
  {
   "cell_type": "code",
   "execution_count": 23,
   "metadata": {},
   "outputs": [
    {
     "data": {
      "text/plain": [
       "True"
      ]
     },
     "execution_count": 23,
     "metadata": {},
     "output_type": "execute_result"
    }
   ],
   "source": [
    "full_board_check(test_board)"
   ]
  },
  {
   "cell_type": "code",
   "execution_count": 24,
   "metadata": {},
   "outputs": [
    {
     "name": "stdout",
     "output_type": "stream",
     "text": [
      "O | O | X\n",
      "O | X | O\n",
      "X | O | X\n"
     ]
    }
   ],
   "source": [
    "display_board(test_board)"
   ]
  },
  {
   "cell_type": "markdown",
   "metadata": {},
   "source": [
    "### Step 8: player_check(board) \n",
    "#### its used to asks for player's next position i.e from 1-9 "
   ]
  },
  {
   "cell_type": "code",
   "execution_count": 25,
   "metadata": {},
   "outputs": [],
   "source": [
    "def player_choice(board):\n",
    "    position=0\n",
    "    while position not in [1,2,3,4,5,6,7,8,9] or not space_check(board,position):\n",
    "    \n",
    "        position=int(input(\"choose position 1 to 9:\"))\n",
    "        \n",
    "    return position"
   ]
  },
  {
   "cell_type": "markdown",
   "metadata": {},
   "source": [
    "### Step 9:replay()\n",
    "#### In case if the user wants to replay the game"
   ]
  },
  {
   "cell_type": "code",
   "execution_count": 26,
   "metadata": {},
   "outputs": [],
   "source": [
    "def replay():\n",
    "    choice=input(\"play again? yes or no::\").upper()\n",
    "    if choice== 'YES':\n",
    "        return choice== 'YES'"
   ]
  },
  {
   "cell_type": "markdown",
   "metadata": {},
   "source": [
    "## Step 10: Simplest step, lets play the game"
   ]
  },
  {
   "cell_type": "code",
   "execution_count": 27,
   "metadata": {
    "scrolled": true
   },
   "outputs": [
    {
     "name": "stdout",
     "output_type": "stream",
     "text": [
      "X | O | O\n",
      "O | O | X\n",
      "X | X | O\n",
      "Tie Game!!!\n",
      "play again? yes or no::y\n"
     ]
    }
   ],
   "source": [
    "#while loop for keep running the game\n",
    "\n",
    "print(\"welcome to TIC TAC TOE\")\n",
    "while True:#set everything up i.e board, set marker, set chance\n",
    "    the_board=[' ']*10\n",
    "    player1_marker, player2_marker=player_input()\n",
    "    turn=choose_first()\n",
    "    print(turn + ' will go first')\n",
    "    play_game=input(\"ready to play? y or n\").upper()\n",
    "    if play_game== 'Y':\n",
    "        game_on=True\n",
    "    else:\n",
    "        game_on=False\n",
    "    \n",
    "    #Game play\n",
    "    while game_on:\n",
    "        if turn== 'player1':\n",
    "            #show the board\n",
    "            display_board(the_board)\n",
    "            #choose a position\n",
    "            position=player_choice(the_board)\n",
    "            #place marker on the position\n",
    "            place_marker(the_board,player1_marker,position)\n",
    "            #check if they won\n",
    "            if win_check(the_board,player1_marker):\n",
    "                display_board(the_board)\n",
    "                print('player 1 won!!!')\n",
    "                game_on=False\n",
    "            #check if match ties\n",
    "            else:\n",
    "                if full_board_check(the_board):\n",
    "                    display_board(the_board)\n",
    "                    print('Tie Game!!!')\n",
    "                    game_on=False\n",
    "                else:\n",
    "                    turn='player2'\n",
    "        #Player 2 turn\n",
    "        else:\n",
    "            #show the board\n",
    "            display_board(the_board)\n",
    "            #choose a position\n",
    "            position=player_choice(the_board)\n",
    "            #place marker on the position\n",
    "            place_marker(the_board,player2_marker,position)\n",
    "            #check if they won\n",
    "            if win_check(the_board,player2_marker):\n",
    "                display_board(the_board)\n",
    "                print('player 2 won!!!')\n",
    "                game_on=False\n",
    "            #check if match ties\n",
    "            else:\n",
    "                if full_board_check(the_board):\n",
    "                    display_board(the_board)\n",
    "                    print('Tie Game!!!')\n",
    "                    game_on=False\n",
    "                else:\n",
    "                    turn='player1'\n",
    "    #if user want to replay the game\n",
    "    if not replay():\n",
    "        break\n",
    "        \n",
    "\n",
    "#break out of while loop\n",
    "    "
   ]
  },
  {
   "cell_type": "code",
   "execution_count": null,
   "metadata": {},
   "outputs": [],
   "source": []
  },
  {
   "cell_type": "code",
   "execution_count": null,
   "metadata": {},
   "outputs": [],
   "source": []
  },
  {
   "cell_type": "code",
   "execution_count": null,
   "metadata": {},
   "outputs": [],
   "source": []
  }
 ],
 "metadata": {
  "kernelspec": {
   "display_name": "Python 3",
   "language": "python",
   "name": "python3"
  },
  "language_info": {
   "codemirror_mode": {
    "name": "ipython",
    "version": 3
   },
   "file_extension": ".py",
   "mimetype": "text/x-python",
   "name": "python",
   "nbconvert_exporter": "python",
   "pygments_lexer": "ipython3",
   "version": "3.7.4"
  }
 },
 "nbformat": 4,
 "nbformat_minor": 2
}
